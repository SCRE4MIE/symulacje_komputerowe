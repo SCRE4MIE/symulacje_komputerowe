{
 "cells": [
  {
   "cell_type": "markdown",
   "source": [
    "# Gra w życie\n",
    "## Mateusz Baran\n",
    "### 155620"
   ],
   "metadata": {
    "collapsed": false
   },
   "id": "b231dc0aa60b030f"
  },
  {
   "cell_type": "code",
   "execution_count": 450,
   "outputs": [],
   "source": [
    "import matplotlib.pyplot as plt\n",
    "import numpy as np\n",
    "from IPython.display import clear_output\n",
    "import time"
   ],
   "metadata": {
    "collapsed": false,
    "ExecuteTime": {
     "end_time": "2023-10-27T18:37:11.954473Z",
     "start_time": "2023-10-27T18:37:11.938413Z"
    }
   },
   "id": "92a2ed6b371b980"
  },
  {
   "cell_type": "code",
   "execution_count": 451,
   "outputs": [],
   "source": [
    "class GraWZycie:\n",
    "    def __init__(self, n, m, iters):\n",
    "        self.matrix = np.zeros((n, m))\n",
    "        self.iters = iters\n",
    "        self.point_to_born = []\n",
    "        self.point_to_die = []\n",
    "    \n",
    "    def draw_matrix(self):\n",
    "        plt.figure(figsize=(15,15))\n",
    "        plt.matshow(self.matrix, cmap='Blues', fignum=1)\n",
    "        plt.show()\n",
    "        \n",
    "    def load_points(self, points_x:list, points_y:list):\n",
    "        if len(points_x) != len(points_y):\n",
    "            raise Exception('Lists are not eaqual!')\n",
    "        for i in range(len(points_x)):\n",
    "            self.matrix[points_y[i]][points_x[i]] = 1\n",
    "            \n",
    "    def check_if_can_born_point(self, i, j):\n",
    "        # need 3 neighbours to born\n",
    "        count = 0\n",
    "        \n",
    "        l_top = [i - 1, j - 1]\n",
    "        l_mid = [i, j - 1]\n",
    "        l_bot = [i + 1, j - 1]\n",
    "        top = [i - 1, j]\n",
    "        bot = [i + 1, j]\n",
    "        r_top = [i - 1, j + 1]\n",
    "        r_mid = [i, j + 1]\n",
    "        r_bot = [i + 1, j + 1]\n",
    "        \n",
    "        if l_top[0] >= 0 and l_top[1] >= 0:\n",
    "            if self.matrix[l_top[0]][l_top[1]] == 1:\n",
    "                count += 1\n",
    "                \n",
    "        if l_mid[1] >= 0:\n",
    "            if self.matrix[l_mid[0]][l_mid[1]] == 1:\n",
    "                count += 1\n",
    "        \n",
    "        if l_bot[0] < self.matrix.shape[0] and l_bot[1] >= 0:\n",
    "            if self.matrix[l_bot[0]][l_bot[1]] == 1:\n",
    "                count += 1\n",
    "        \n",
    "        if r_top[0] >= 0 and r_top[1] < self.matrix.shape[1]:\n",
    "            if self.matrix[r_top[0]][r_top[1]] == 1:\n",
    "                count += 1\n",
    "                \n",
    "        if r_mid[1] < self.matrix.shape[1]:\n",
    "            if self.matrix[r_mid[0]][r_mid[1]] == 1:\n",
    "                count += 1\n",
    "        \n",
    "        if r_bot[0] < self.matrix.shape[0] and r_bot[1] < self.matrix.shape[1]:\n",
    "            if self.matrix[r_bot[0]][r_bot[1]] == 1:\n",
    "                count += 1\n",
    "        \n",
    "        if top[0] >= 0:\n",
    "            if self.matrix[top[0]][top[1]] == 1:\n",
    "                count += 1\n",
    "        \n",
    "        if bot[0] < self.matrix.shape[0]:\n",
    "            if self.matrix[bot[0]][bot[1]] == 1:\n",
    "                count += 1\n",
    "        \n",
    "        if count == 3:\n",
    "            self.point_to_born.append([i,j])\n",
    "        \n",
    "        \n",
    "    def check_if_can_die_point(self, i, j):\n",
    "        # need 2 or 3 neighbours , less or more == DIE\n",
    "        count = 0\n",
    "        \n",
    "        l_top = [i - 1, j - 1]\n",
    "        l_mid = [i, j - 1]\n",
    "        l_bot = [i + 1, j - 1]\n",
    "        top = [i - 1, j]\n",
    "        bot = [i + 1, j]\n",
    "        r_top = [i - 1, j + 1]\n",
    "        r_mid = [i, j + 1]\n",
    "        r_bot = [i + 1, j + 1]\n",
    "        \n",
    "        if l_top[0] >= 0 and l_top[1] >= 0:\n",
    "            if self.matrix[l_top[0]][l_top[1]] == 1:\n",
    "                count += 1\n",
    "                \n",
    "        if l_mid[1] >= 0:\n",
    "            if self.matrix[l_mid[0]][l_mid[1]] == 1:\n",
    "                count += 1\n",
    "        \n",
    "        if l_bot[0] < self.matrix.shape[0] and l_bot[1] >= 0:\n",
    "            if self.matrix[l_bot[0]][l_bot[1]] == 1:\n",
    "                count += 1\n",
    "        \n",
    "        if r_top[0] >= 0 and r_top[1] < self.matrix.shape[1]:\n",
    "            if self.matrix[r_top[0]][r_top[1]] == 1:\n",
    "                count += 1\n",
    "                \n",
    "        if r_mid[1] < self.matrix.shape[1]:\n",
    "            if self.matrix[r_mid[0]][r_mid[1]] == 1:\n",
    "                count += 1\n",
    "        \n",
    "        if r_bot[0] < self.matrix.shape[0] and r_bot[1] < self.matrix.shape[1]:\n",
    "            if self.matrix[r_bot[0]][r_bot[1]] == 1:\n",
    "                count += 1\n",
    "        \n",
    "        if top[0] >= 0:\n",
    "            if self.matrix[top[0]][top[1]] == 1:\n",
    "                count += 1\n",
    "        \n",
    "        if bot[0] < self.matrix.shape[0]:\n",
    "            if self.matrix[bot[0]][bot[1]] == 1:\n",
    "                count += 1\n",
    "        \n",
    "        if count < 2 or count > 3:\n",
    "            self.point_to_die.append([i,j])\n",
    "    \n",
    "    \n",
    "    def check_born_or_die(self, i, j):\n",
    "        if self.matrix[i][j] == 0:\n",
    "            self.check_if_can_born_point(i, j)\n",
    "        if self.matrix[i][j] == 1:\n",
    "            self.check_if_can_die_point(i, j)\n",
    "        \n",
    "    def born_or_kill(self):\n",
    "        for born in self.point_to_born:\n",
    "            self.matrix[born[0]][born[1]] = 1\n",
    "        for kill in self.point_to_die:\n",
    "            self.matrix[kill[0]][kill[1]] = 0\n",
    "                \n",
    "        self.point_to_born = []\n",
    "        self.point_to_die = []\n",
    "                \n",
    "        \n",
    "        \n",
    "    def core(self):\n",
    "        \n",
    "        for l in range(self.iters):\n",
    "            for i in range(len(self.matrix)):\n",
    "                for j in range(len(self.matrix)):\n",
    "                    self.check_born_or_die(i, j)\n",
    "                    \n",
    "            self.born_or_kill()\n",
    "            plt.figure(figsize=(10,10))\n",
    "            plt.matshow(self.matrix, cmap='Blues', fignum=1)\n",
    "        \n",
    "            clear_output(wait=0.5)\n",
    "            plt.title(f'Generation {l+1}, people: {np.count_nonzero(self.matrix)}')\n",
    "            plt.show()\n",
    "        \n",
    "            "
   ],
   "metadata": {
    "collapsed": false,
    "ExecuteTime": {
     "end_time": "2023-10-27T18:37:11.981926Z",
     "start_time": "2023-10-27T18:37:11.941407Z"
    }
   },
   "id": "2e76e896a166d8ce"
  },
  {
   "cell_type": "code",
   "execution_count": 452,
   "outputs": [],
   "source": [
    "gra_w_zycie = GraWZycie(n=200, m=200, iters=10000)"
   ],
   "metadata": {
    "collapsed": false,
    "ExecuteTime": {
     "end_time": "2023-10-27T18:37:11.993971Z",
     "start_time": "2023-10-27T18:37:11.962831Z"
    }
   },
   "id": "94ae3ffcc10bf68b"
  },
  {
   "cell_type": "code",
   "execution_count": 453,
   "outputs": [],
   "source": [
    "gra_w_zycie.load_points(points_x=[100, 100, 101, 100, 99], points_y=[100, 99, 99, 101, 100])"
   ],
   "metadata": {
    "collapsed": false,
    "ExecuteTime": {
     "end_time": "2023-10-27T18:37:11.994131Z",
     "start_time": "2023-10-27T18:37:11.966110Z"
    }
   },
   "id": "24876332ab5637a9"
  },
  {
   "cell_type": "code",
   "execution_count": 454,
   "outputs": [
    {
     "ename": "KeyboardInterrupt",
     "evalue": "",
     "output_type": "error",
     "traceback": [
      "\u001B[0;31m---------------------------------------------------------------------------\u001B[0m",
      "\u001B[0;31mAttributeError\u001B[0m                            Traceback (most recent call last)",
      "File \u001B[0;32m/opt/homebrew/Caskroom/miniconda/base/envs/magisterka/lib/python3.11/site-packages/PIL/ImageFile.py:515\u001B[0m, in \u001B[0;36m_save\u001B[0;34m(im, fp, tile, bufsize)\u001B[0m\n\u001B[1;32m    514\u001B[0m \u001B[38;5;28;01mtry\u001B[39;00m:\n\u001B[0;32m--> 515\u001B[0m     fh \u001B[38;5;241m=\u001B[39m \u001B[43mfp\u001B[49m\u001B[38;5;241;43m.\u001B[39;49m\u001B[43mfileno\u001B[49m()\n\u001B[1;32m    516\u001B[0m     fp\u001B[38;5;241m.\u001B[39mflush()\n",
      "\u001B[0;31mAttributeError\u001B[0m: '_idat' object has no attribute 'fileno'",
      "\nDuring handling of the above exception, another exception occurred:\n",
      "\u001B[0;31mKeyboardInterrupt\u001B[0m                         Traceback (most recent call last)",
      "Cell \u001B[0;32mIn[454], line 7\u001B[0m\n\u001B[1;32m      2\u001B[0m dzialo_gospera\u001B[38;5;241m.\u001B[39mload_points(\n\u001B[1;32m      3\u001B[0m     points_x\u001B[38;5;241m=\u001B[39m[\u001B[38;5;241m1\u001B[39m,\u001B[38;5;241m2\u001B[39m,\u001B[38;5;241m1\u001B[39m,\u001B[38;5;241m2\u001B[39m, \u001B[38;5;241m11\u001B[39m,\u001B[38;5;241m11\u001B[39m,\u001B[38;5;241m11\u001B[39m,\u001B[38;5;241m12\u001B[39m,\u001B[38;5;241m12\u001B[39m,\u001B[38;5;241m13\u001B[39m,\u001B[38;5;241m13\u001B[39m,\u001B[38;5;241m14\u001B[39m,\u001B[38;5;241m14\u001B[39m,\u001B[38;5;241m15\u001B[39m,\u001B[38;5;241m16\u001B[39m,\u001B[38;5;241m16\u001B[39m,\u001B[38;5;241m17\u001B[39m,\u001B[38;5;241m17\u001B[39m,\u001B[38;5;241m17\u001B[39m,\u001B[38;5;241m18\u001B[39m, \u001B[38;5;241m21\u001B[39m,\u001B[38;5;241m21\u001B[39m,\u001B[38;5;241m21\u001B[39m,\u001B[38;5;241m22\u001B[39m,\u001B[38;5;241m22\u001B[39m,\u001B[38;5;241m22\u001B[39m,\u001B[38;5;241m23\u001B[39m,\u001B[38;5;241m23\u001B[39m,\u001B[38;5;241m25\u001B[39m,\u001B[38;5;241m25\u001B[39m,\u001B[38;5;241m25\u001B[39m,\u001B[38;5;241m25\u001B[39m, \u001B[38;5;241m35\u001B[39m,\u001B[38;5;241m35\u001B[39m,\u001B[38;5;241m36\u001B[39m,\u001B[38;5;241m36\u001B[39m, \u001B[38;5;241m100\u001B[39m, \u001B[38;5;241m100\u001B[39m, \u001B[38;5;241m101\u001B[39m, \u001B[38;5;241m100\u001B[39m, \u001B[38;5;241m99\u001B[39m],\n\u001B[1;32m      4\u001B[0m     points_y\u001B[38;5;241m=\u001B[39m[\u001B[38;5;241m30\u001B[39m,\u001B[38;5;241m30\u001B[39m,\u001B[38;5;241m31\u001B[39m,\u001B[38;5;241m31\u001B[39m, \u001B[38;5;241m30\u001B[39m,\u001B[38;5;241m31\u001B[39m,\u001B[38;5;241m32\u001B[39m,\u001B[38;5;241m29\u001B[39m,\u001B[38;5;241m33\u001B[39m,\u001B[38;5;241m28\u001B[39m,\u001B[38;5;241m34\u001B[39m,\u001B[38;5;241m28\u001B[39m,\u001B[38;5;241m34\u001B[39m,\u001B[38;5;241m31\u001B[39m, \u001B[38;5;241m29\u001B[39m,\u001B[38;5;241m33\u001B[39m,\u001B[38;5;241m30\u001B[39m,\u001B[38;5;241m32\u001B[39m,\u001B[38;5;241m31\u001B[39m,\u001B[38;5;241m31\u001B[39m, \u001B[38;5;241m30\u001B[39m,\u001B[38;5;241m29\u001B[39m,\u001B[38;5;241m28\u001B[39m,\u001B[38;5;241m30\u001B[39m,\u001B[38;5;241m29\u001B[39m,\u001B[38;5;241m28\u001B[39m,\u001B[38;5;241m27\u001B[39m,\u001B[38;5;241m31\u001B[39m,\u001B[38;5;241m31\u001B[39m,\u001B[38;5;241m32\u001B[39m,\u001B[38;5;241m27\u001B[39m,\u001B[38;5;241m26\u001B[39m, \u001B[38;5;241m28\u001B[39m,\u001B[38;5;241m29\u001B[39m,\u001B[38;5;241m28\u001B[39m,\u001B[38;5;241m29\u001B[39m, \u001B[38;5;241m100\u001B[39m, \u001B[38;5;241m99\u001B[39m, \u001B[38;5;241m99\u001B[39m, \u001B[38;5;241m101\u001B[39m, \u001B[38;5;241m100\u001B[39m],\n\u001B[1;32m      5\u001B[0m )\n\u001B[1;32m      6\u001B[0m \u001B[38;5;66;03m# dzialo_gospera.draw_matrix()\u001B[39;00m\n\u001B[0;32m----> 7\u001B[0m \u001B[43mdzialo_gospera\u001B[49m\u001B[38;5;241;43m.\u001B[39;49m\u001B[43mcore\u001B[49m\u001B[43m(\u001B[49m\u001B[43m)\u001B[49m\n",
      "Cell \u001B[0;32mIn[451], line 147\u001B[0m, in \u001B[0;36mGraWZycie.core\u001B[0;34m(self)\u001B[0m\n\u001B[1;32m    145\u001B[0m clear_output(wait\u001B[38;5;241m=\u001B[39m\u001B[38;5;241m0.5\u001B[39m)\n\u001B[1;32m    146\u001B[0m plt\u001B[38;5;241m.\u001B[39mtitle(\u001B[38;5;124mf\u001B[39m\u001B[38;5;124m'\u001B[39m\u001B[38;5;124mGeneration \u001B[39m\u001B[38;5;132;01m{\u001B[39;00ml\u001B[38;5;241m+\u001B[39m\u001B[38;5;241m1\u001B[39m\u001B[38;5;132;01m}\u001B[39;00m\u001B[38;5;124m, people: \u001B[39m\u001B[38;5;132;01m{\u001B[39;00mnp\u001B[38;5;241m.\u001B[39mcount_nonzero(\u001B[38;5;28mself\u001B[39m\u001B[38;5;241m.\u001B[39mmatrix)\u001B[38;5;132;01m}\u001B[39;00m\u001B[38;5;124m'\u001B[39m)\n\u001B[0;32m--> 147\u001B[0m \u001B[43mplt\u001B[49m\u001B[38;5;241;43m.\u001B[39;49m\u001B[43mshow\u001B[49m\u001B[43m(\u001B[49m\u001B[43m)\u001B[49m\n",
      "File \u001B[0;32m/opt/homebrew/Caskroom/miniconda/base/envs/magisterka/lib/python3.11/site-packages/matplotlib/pyplot.py:527\u001B[0m, in \u001B[0;36mshow\u001B[0;34m(*args, **kwargs)\u001B[0m\n\u001B[1;32m    483\u001B[0m \u001B[38;5;250m\u001B[39m\u001B[38;5;124;03m\"\"\"\u001B[39;00m\n\u001B[1;32m    484\u001B[0m \u001B[38;5;124;03mDisplay all open figures.\u001B[39;00m\n\u001B[1;32m    485\u001B[0m \n\u001B[0;32m   (...)\u001B[0m\n\u001B[1;32m    524\u001B[0m \u001B[38;5;124;03mexplicitly there.\u001B[39;00m\n\u001B[1;32m    525\u001B[0m \u001B[38;5;124;03m\"\"\"\u001B[39;00m\n\u001B[1;32m    526\u001B[0m _warn_if_gui_out_of_main_thread()\n\u001B[0;32m--> 527\u001B[0m \u001B[38;5;28;01mreturn\u001B[39;00m \u001B[43m_get_backend_mod\u001B[49m\u001B[43m(\u001B[49m\u001B[43m)\u001B[49m\u001B[38;5;241;43m.\u001B[39;49m\u001B[43mshow\u001B[49m\u001B[43m(\u001B[49m\u001B[38;5;241;43m*\u001B[39;49m\u001B[43margs\u001B[49m\u001B[43m,\u001B[49m\u001B[43m \u001B[49m\u001B[38;5;241;43m*\u001B[39;49m\u001B[38;5;241;43m*\u001B[39;49m\u001B[43mkwargs\u001B[49m\u001B[43m)\u001B[49m\n",
      "File \u001B[0;32m/opt/homebrew/Caskroom/miniconda/base/envs/magisterka/lib/python3.11/site-packages/matplotlib_inline/backend_inline.py:90\u001B[0m, in \u001B[0;36mshow\u001B[0;34m(close, block)\u001B[0m\n\u001B[1;32m     88\u001B[0m \u001B[38;5;28;01mtry\u001B[39;00m:\n\u001B[1;32m     89\u001B[0m     \u001B[38;5;28;01mfor\u001B[39;00m figure_manager \u001B[38;5;129;01min\u001B[39;00m Gcf\u001B[38;5;241m.\u001B[39mget_all_fig_managers():\n\u001B[0;32m---> 90\u001B[0m         \u001B[43mdisplay\u001B[49m\u001B[43m(\u001B[49m\n\u001B[1;32m     91\u001B[0m \u001B[43m            \u001B[49m\u001B[43mfigure_manager\u001B[49m\u001B[38;5;241;43m.\u001B[39;49m\u001B[43mcanvas\u001B[49m\u001B[38;5;241;43m.\u001B[39;49m\u001B[43mfigure\u001B[49m\u001B[43m,\u001B[49m\n\u001B[1;32m     92\u001B[0m \u001B[43m            \u001B[49m\u001B[43mmetadata\u001B[49m\u001B[38;5;241;43m=\u001B[39;49m\u001B[43m_fetch_figure_metadata\u001B[49m\u001B[43m(\u001B[49m\u001B[43mfigure_manager\u001B[49m\u001B[38;5;241;43m.\u001B[39;49m\u001B[43mcanvas\u001B[49m\u001B[38;5;241;43m.\u001B[39;49m\u001B[43mfigure\u001B[49m\u001B[43m)\u001B[49m\n\u001B[1;32m     93\u001B[0m \u001B[43m        \u001B[49m\u001B[43m)\u001B[49m\n\u001B[1;32m     94\u001B[0m \u001B[38;5;28;01mfinally\u001B[39;00m:\n\u001B[1;32m     95\u001B[0m     show\u001B[38;5;241m.\u001B[39m_to_draw \u001B[38;5;241m=\u001B[39m []\n",
      "File \u001B[0;32m/opt/homebrew/Caskroom/miniconda/base/envs/magisterka/lib/python3.11/site-packages/IPython/core/display_functions.py:298\u001B[0m, in \u001B[0;36mdisplay\u001B[0;34m(include, exclude, metadata, transient, display_id, raw, clear, *objs, **kwargs)\u001B[0m\n\u001B[1;32m    296\u001B[0m     publish_display_data(data\u001B[38;5;241m=\u001B[39mobj, metadata\u001B[38;5;241m=\u001B[39mmetadata, \u001B[38;5;241m*\u001B[39m\u001B[38;5;241m*\u001B[39mkwargs)\n\u001B[1;32m    297\u001B[0m \u001B[38;5;28;01melse\u001B[39;00m:\n\u001B[0;32m--> 298\u001B[0m     format_dict, md_dict \u001B[38;5;241m=\u001B[39m \u001B[38;5;28;43mformat\u001B[39;49m\u001B[43m(\u001B[49m\u001B[43mobj\u001B[49m\u001B[43m,\u001B[49m\u001B[43m \u001B[49m\u001B[43minclude\u001B[49m\u001B[38;5;241;43m=\u001B[39;49m\u001B[43minclude\u001B[49m\u001B[43m,\u001B[49m\u001B[43m \u001B[49m\u001B[43mexclude\u001B[49m\u001B[38;5;241;43m=\u001B[39;49m\u001B[43mexclude\u001B[49m\u001B[43m)\u001B[49m\n\u001B[1;32m    299\u001B[0m     \u001B[38;5;28;01mif\u001B[39;00m \u001B[38;5;129;01mnot\u001B[39;00m format_dict:\n\u001B[1;32m    300\u001B[0m         \u001B[38;5;66;03m# nothing to display (e.g. _ipython_display_ took over)\u001B[39;00m\n\u001B[1;32m    301\u001B[0m         \u001B[38;5;28;01mcontinue\u001B[39;00m\n",
      "File \u001B[0;32m/opt/homebrew/Caskroom/miniconda/base/envs/magisterka/lib/python3.11/site-packages/IPython/core/formatters.py:179\u001B[0m, in \u001B[0;36mDisplayFormatter.format\u001B[0;34m(self, obj, include, exclude)\u001B[0m\n\u001B[1;32m    177\u001B[0m md \u001B[38;5;241m=\u001B[39m \u001B[38;5;28;01mNone\u001B[39;00m\n\u001B[1;32m    178\u001B[0m \u001B[38;5;28;01mtry\u001B[39;00m:\n\u001B[0;32m--> 179\u001B[0m     data \u001B[38;5;241m=\u001B[39m \u001B[43mformatter\u001B[49m\u001B[43m(\u001B[49m\u001B[43mobj\u001B[49m\u001B[43m)\u001B[49m\n\u001B[1;32m    180\u001B[0m \u001B[38;5;28;01mexcept\u001B[39;00m:\n\u001B[1;32m    181\u001B[0m     \u001B[38;5;66;03m# FIXME: log the exception\u001B[39;00m\n\u001B[1;32m    182\u001B[0m     \u001B[38;5;28;01mraise\u001B[39;00m\n",
      "File \u001B[0;32m/opt/homebrew/Caskroom/miniconda/base/envs/magisterka/lib/python3.11/site-packages/decorator.py:232\u001B[0m, in \u001B[0;36mdecorate.<locals>.fun\u001B[0;34m(*args, **kw)\u001B[0m\n\u001B[1;32m    230\u001B[0m \u001B[38;5;28;01mif\u001B[39;00m \u001B[38;5;129;01mnot\u001B[39;00m kwsyntax:\n\u001B[1;32m    231\u001B[0m     args, kw \u001B[38;5;241m=\u001B[39m fix(args, kw, sig)\n\u001B[0;32m--> 232\u001B[0m \u001B[38;5;28;01mreturn\u001B[39;00m \u001B[43mcaller\u001B[49m\u001B[43m(\u001B[49m\u001B[43mfunc\u001B[49m\u001B[43m,\u001B[49m\u001B[43m \u001B[49m\u001B[38;5;241;43m*\u001B[39;49m\u001B[43m(\u001B[49m\u001B[43mextras\u001B[49m\u001B[43m \u001B[49m\u001B[38;5;241;43m+\u001B[39;49m\u001B[43m \u001B[49m\u001B[43margs\u001B[49m\u001B[43m)\u001B[49m\u001B[43m,\u001B[49m\u001B[43m \u001B[49m\u001B[38;5;241;43m*\u001B[39;49m\u001B[38;5;241;43m*\u001B[39;49m\u001B[43mkw\u001B[49m\u001B[43m)\u001B[49m\n",
      "File \u001B[0;32m/opt/homebrew/Caskroom/miniconda/base/envs/magisterka/lib/python3.11/site-packages/IPython/core/formatters.py:223\u001B[0m, in \u001B[0;36mcatch_format_error\u001B[0;34m(method, self, *args, **kwargs)\u001B[0m\n\u001B[1;32m    221\u001B[0m \u001B[38;5;250m\u001B[39m\u001B[38;5;124;03m\"\"\"show traceback on failed format call\"\"\"\u001B[39;00m\n\u001B[1;32m    222\u001B[0m \u001B[38;5;28;01mtry\u001B[39;00m:\n\u001B[0;32m--> 223\u001B[0m     r \u001B[38;5;241m=\u001B[39m \u001B[43mmethod\u001B[49m\u001B[43m(\u001B[49m\u001B[38;5;28;43mself\u001B[39;49m\u001B[43m,\u001B[49m\u001B[43m \u001B[49m\u001B[38;5;241;43m*\u001B[39;49m\u001B[43margs\u001B[49m\u001B[43m,\u001B[49m\u001B[43m \u001B[49m\u001B[38;5;241;43m*\u001B[39;49m\u001B[38;5;241;43m*\u001B[39;49m\u001B[43mkwargs\u001B[49m\u001B[43m)\u001B[49m\n\u001B[1;32m    224\u001B[0m \u001B[38;5;28;01mexcept\u001B[39;00m \u001B[38;5;167;01mNotImplementedError\u001B[39;00m:\n\u001B[1;32m    225\u001B[0m     \u001B[38;5;66;03m# don't warn on NotImplementedErrors\u001B[39;00m\n\u001B[1;32m    226\u001B[0m     \u001B[38;5;28;01mreturn\u001B[39;00m \u001B[38;5;28mself\u001B[39m\u001B[38;5;241m.\u001B[39m_check_return(\u001B[38;5;28;01mNone\u001B[39;00m, args[\u001B[38;5;241m0\u001B[39m])\n",
      "File \u001B[0;32m/opt/homebrew/Caskroom/miniconda/base/envs/magisterka/lib/python3.11/site-packages/IPython/core/formatters.py:340\u001B[0m, in \u001B[0;36mBaseFormatter.__call__\u001B[0;34m(self, obj)\u001B[0m\n\u001B[1;32m    338\u001B[0m     \u001B[38;5;28;01mpass\u001B[39;00m\n\u001B[1;32m    339\u001B[0m \u001B[38;5;28;01melse\u001B[39;00m:\n\u001B[0;32m--> 340\u001B[0m     \u001B[38;5;28;01mreturn\u001B[39;00m \u001B[43mprinter\u001B[49m\u001B[43m(\u001B[49m\u001B[43mobj\u001B[49m\u001B[43m)\u001B[49m\n\u001B[1;32m    341\u001B[0m \u001B[38;5;66;03m# Finally look for special method names\u001B[39;00m\n\u001B[1;32m    342\u001B[0m method \u001B[38;5;241m=\u001B[39m get_real_method(obj, \u001B[38;5;28mself\u001B[39m\u001B[38;5;241m.\u001B[39mprint_method)\n",
      "File \u001B[0;32m/opt/homebrew/Caskroom/miniconda/base/envs/magisterka/lib/python3.11/site-packages/IPython/core/pylabtools.py:152\u001B[0m, in \u001B[0;36mprint_figure\u001B[0;34m(fig, fmt, bbox_inches, base64, **kwargs)\u001B[0m\n\u001B[1;32m    149\u001B[0m     \u001B[38;5;28;01mfrom\u001B[39;00m \u001B[38;5;21;01mmatplotlib\u001B[39;00m\u001B[38;5;21;01m.\u001B[39;00m\u001B[38;5;21;01mbackend_bases\u001B[39;00m \u001B[38;5;28;01mimport\u001B[39;00m FigureCanvasBase\n\u001B[1;32m    150\u001B[0m     FigureCanvasBase(fig)\n\u001B[0;32m--> 152\u001B[0m \u001B[43mfig\u001B[49m\u001B[38;5;241;43m.\u001B[39;49m\u001B[43mcanvas\u001B[49m\u001B[38;5;241;43m.\u001B[39;49m\u001B[43mprint_figure\u001B[49m\u001B[43m(\u001B[49m\u001B[43mbytes_io\u001B[49m\u001B[43m,\u001B[49m\u001B[43m \u001B[49m\u001B[38;5;241;43m*\u001B[39;49m\u001B[38;5;241;43m*\u001B[39;49m\u001B[43mkw\u001B[49m\u001B[43m)\u001B[49m\n\u001B[1;32m    153\u001B[0m data \u001B[38;5;241m=\u001B[39m bytes_io\u001B[38;5;241m.\u001B[39mgetvalue()\n\u001B[1;32m    154\u001B[0m \u001B[38;5;28;01mif\u001B[39;00m fmt \u001B[38;5;241m==\u001B[39m \u001B[38;5;124m'\u001B[39m\u001B[38;5;124msvg\u001B[39m\u001B[38;5;124m'\u001B[39m:\n",
      "File \u001B[0;32m/opt/homebrew/Caskroom/miniconda/base/envs/magisterka/lib/python3.11/site-packages/matplotlib/backend_bases.py:2187\u001B[0m, in \u001B[0;36mFigureCanvasBase.print_figure\u001B[0;34m(self, filename, dpi, facecolor, edgecolor, orientation, format, bbox_inches, pad_inches, bbox_extra_artists, backend, **kwargs)\u001B[0m\n\u001B[1;32m   2183\u001B[0m \u001B[38;5;28;01mtry\u001B[39;00m:\n\u001B[1;32m   2184\u001B[0m     \u001B[38;5;66;03m# _get_renderer may change the figure dpi (as vector formats\u001B[39;00m\n\u001B[1;32m   2185\u001B[0m     \u001B[38;5;66;03m# force the figure dpi to 72), so we need to set it again here.\u001B[39;00m\n\u001B[1;32m   2186\u001B[0m     \u001B[38;5;28;01mwith\u001B[39;00m cbook\u001B[38;5;241m.\u001B[39m_setattr_cm(\u001B[38;5;28mself\u001B[39m\u001B[38;5;241m.\u001B[39mfigure, dpi\u001B[38;5;241m=\u001B[39mdpi):\n\u001B[0;32m-> 2187\u001B[0m         result \u001B[38;5;241m=\u001B[39m \u001B[43mprint_method\u001B[49m\u001B[43m(\u001B[49m\n\u001B[1;32m   2188\u001B[0m \u001B[43m            \u001B[49m\u001B[43mfilename\u001B[49m\u001B[43m,\u001B[49m\n\u001B[1;32m   2189\u001B[0m \u001B[43m            \u001B[49m\u001B[43mfacecolor\u001B[49m\u001B[38;5;241;43m=\u001B[39;49m\u001B[43mfacecolor\u001B[49m\u001B[43m,\u001B[49m\n\u001B[1;32m   2190\u001B[0m \u001B[43m            \u001B[49m\u001B[43medgecolor\u001B[49m\u001B[38;5;241;43m=\u001B[39;49m\u001B[43medgecolor\u001B[49m\u001B[43m,\u001B[49m\n\u001B[1;32m   2191\u001B[0m \u001B[43m            \u001B[49m\u001B[43morientation\u001B[49m\u001B[38;5;241;43m=\u001B[39;49m\u001B[43morientation\u001B[49m\u001B[43m,\u001B[49m\n\u001B[1;32m   2192\u001B[0m \u001B[43m            \u001B[49m\u001B[43mbbox_inches_restore\u001B[49m\u001B[38;5;241;43m=\u001B[39;49m\u001B[43m_bbox_inches_restore\u001B[49m\u001B[43m,\u001B[49m\n\u001B[1;32m   2193\u001B[0m \u001B[43m            \u001B[49m\u001B[38;5;241;43m*\u001B[39;49m\u001B[38;5;241;43m*\u001B[39;49m\u001B[43mkwargs\u001B[49m\u001B[43m)\u001B[49m\n\u001B[1;32m   2194\u001B[0m \u001B[38;5;28;01mfinally\u001B[39;00m:\n\u001B[1;32m   2195\u001B[0m     \u001B[38;5;28;01mif\u001B[39;00m bbox_inches \u001B[38;5;129;01mand\u001B[39;00m restore_bbox:\n",
      "File \u001B[0;32m/opt/homebrew/Caskroom/miniconda/base/envs/magisterka/lib/python3.11/site-packages/matplotlib/backend_bases.py:2043\u001B[0m, in \u001B[0;36mFigureCanvasBase._switch_canvas_and_return_print_method.<locals>.<lambda>\u001B[0;34m(*args, **kwargs)\u001B[0m\n\u001B[1;32m   2039\u001B[0m     optional_kws \u001B[38;5;241m=\u001B[39m {  \u001B[38;5;66;03m# Passed by print_figure for other renderers.\u001B[39;00m\n\u001B[1;32m   2040\u001B[0m         \u001B[38;5;124m\"\u001B[39m\u001B[38;5;124mdpi\u001B[39m\u001B[38;5;124m\"\u001B[39m, \u001B[38;5;124m\"\u001B[39m\u001B[38;5;124mfacecolor\u001B[39m\u001B[38;5;124m\"\u001B[39m, \u001B[38;5;124m\"\u001B[39m\u001B[38;5;124medgecolor\u001B[39m\u001B[38;5;124m\"\u001B[39m, \u001B[38;5;124m\"\u001B[39m\u001B[38;5;124morientation\u001B[39m\u001B[38;5;124m\"\u001B[39m,\n\u001B[1;32m   2041\u001B[0m         \u001B[38;5;124m\"\u001B[39m\u001B[38;5;124mbbox_inches_restore\u001B[39m\u001B[38;5;124m\"\u001B[39m}\n\u001B[1;32m   2042\u001B[0m     skip \u001B[38;5;241m=\u001B[39m optional_kws \u001B[38;5;241m-\u001B[39m {\u001B[38;5;241m*\u001B[39minspect\u001B[38;5;241m.\u001B[39msignature(meth)\u001B[38;5;241m.\u001B[39mparameters}\n\u001B[0;32m-> 2043\u001B[0m     print_method \u001B[38;5;241m=\u001B[39m functools\u001B[38;5;241m.\u001B[39mwraps(meth)(\u001B[38;5;28;01mlambda\u001B[39;00m \u001B[38;5;241m*\u001B[39margs, \u001B[38;5;241m*\u001B[39m\u001B[38;5;241m*\u001B[39mkwargs: \u001B[43mmeth\u001B[49m\u001B[43m(\u001B[49m\n\u001B[1;32m   2044\u001B[0m \u001B[43m        \u001B[49m\u001B[38;5;241;43m*\u001B[39;49m\u001B[43margs\u001B[49m\u001B[43m,\u001B[49m\u001B[43m \u001B[49m\u001B[38;5;241;43m*\u001B[39;49m\u001B[38;5;241;43m*\u001B[39;49m\u001B[43m{\u001B[49m\u001B[43mk\u001B[49m\u001B[43m:\u001B[49m\u001B[43m \u001B[49m\u001B[43mv\u001B[49m\u001B[43m \u001B[49m\u001B[38;5;28;43;01mfor\u001B[39;49;00m\u001B[43m \u001B[49m\u001B[43mk\u001B[49m\u001B[43m,\u001B[49m\u001B[43m \u001B[49m\u001B[43mv\u001B[49m\u001B[43m \u001B[49m\u001B[38;5;129;43;01min\u001B[39;49;00m\u001B[43m \u001B[49m\u001B[43mkwargs\u001B[49m\u001B[38;5;241;43m.\u001B[39;49m\u001B[43mitems\u001B[49m\u001B[43m(\u001B[49m\u001B[43m)\u001B[49m\u001B[43m \u001B[49m\u001B[38;5;28;43;01mif\u001B[39;49;00m\u001B[43m \u001B[49m\u001B[43mk\u001B[49m\u001B[43m \u001B[49m\u001B[38;5;129;43;01mnot\u001B[39;49;00m\u001B[43m \u001B[49m\u001B[38;5;129;43;01min\u001B[39;49;00m\u001B[43m \u001B[49m\u001B[43mskip\u001B[49m\u001B[43m}\u001B[49m\u001B[43m)\u001B[49m)\n\u001B[1;32m   2045\u001B[0m \u001B[38;5;28;01melse\u001B[39;00m:  \u001B[38;5;66;03m# Let third-parties do as they see fit.\u001B[39;00m\n\u001B[1;32m   2046\u001B[0m     print_method \u001B[38;5;241m=\u001B[39m meth\n",
      "File \u001B[0;32m/opt/homebrew/Caskroom/miniconda/base/envs/magisterka/lib/python3.11/site-packages/matplotlib/backends/backend_agg.py:497\u001B[0m, in \u001B[0;36mFigureCanvasAgg.print_png\u001B[0;34m(self, filename_or_obj, metadata, pil_kwargs)\u001B[0m\n\u001B[1;32m    450\u001B[0m \u001B[38;5;28;01mdef\u001B[39;00m \u001B[38;5;21mprint_png\u001B[39m(\u001B[38;5;28mself\u001B[39m, filename_or_obj, \u001B[38;5;241m*\u001B[39m, metadata\u001B[38;5;241m=\u001B[39m\u001B[38;5;28;01mNone\u001B[39;00m, pil_kwargs\u001B[38;5;241m=\u001B[39m\u001B[38;5;28;01mNone\u001B[39;00m):\n\u001B[1;32m    451\u001B[0m \u001B[38;5;250m    \u001B[39m\u001B[38;5;124;03m\"\"\"\u001B[39;00m\n\u001B[1;32m    452\u001B[0m \u001B[38;5;124;03m    Write the figure to a PNG file.\u001B[39;00m\n\u001B[1;32m    453\u001B[0m \n\u001B[0;32m   (...)\u001B[0m\n\u001B[1;32m    495\u001B[0m \u001B[38;5;124;03m        *metadata*, including the default 'Software' key.\u001B[39;00m\n\u001B[1;32m    496\u001B[0m \u001B[38;5;124;03m    \"\"\"\u001B[39;00m\n\u001B[0;32m--> 497\u001B[0m     \u001B[38;5;28;43mself\u001B[39;49m\u001B[38;5;241;43m.\u001B[39;49m\u001B[43m_print_pil\u001B[49m\u001B[43m(\u001B[49m\u001B[43mfilename_or_obj\u001B[49m\u001B[43m,\u001B[49m\u001B[43m \u001B[49m\u001B[38;5;124;43m\"\u001B[39;49m\u001B[38;5;124;43mpng\u001B[39;49m\u001B[38;5;124;43m\"\u001B[39;49m\u001B[43m,\u001B[49m\u001B[43m \u001B[49m\u001B[43mpil_kwargs\u001B[49m\u001B[43m,\u001B[49m\u001B[43m \u001B[49m\u001B[43mmetadata\u001B[49m\u001B[43m)\u001B[49m\n",
      "File \u001B[0;32m/opt/homebrew/Caskroom/miniconda/base/envs/magisterka/lib/python3.11/site-packages/matplotlib/backends/backend_agg.py:446\u001B[0m, in \u001B[0;36mFigureCanvasAgg._print_pil\u001B[0;34m(self, filename_or_obj, fmt, pil_kwargs, metadata)\u001B[0m\n\u001B[1;32m    441\u001B[0m \u001B[38;5;250m\u001B[39m\u001B[38;5;124;03m\"\"\"\u001B[39;00m\n\u001B[1;32m    442\u001B[0m \u001B[38;5;124;03mDraw the canvas, then save it using `.image.imsave` (to which\u001B[39;00m\n\u001B[1;32m    443\u001B[0m \u001B[38;5;124;03m*pil_kwargs* and *metadata* are forwarded).\u001B[39;00m\n\u001B[1;32m    444\u001B[0m \u001B[38;5;124;03m\"\"\"\u001B[39;00m\n\u001B[1;32m    445\u001B[0m FigureCanvasAgg\u001B[38;5;241m.\u001B[39mdraw(\u001B[38;5;28mself\u001B[39m)\n\u001B[0;32m--> 446\u001B[0m \u001B[43mmpl\u001B[49m\u001B[38;5;241;43m.\u001B[39;49m\u001B[43mimage\u001B[49m\u001B[38;5;241;43m.\u001B[39;49m\u001B[43mimsave\u001B[49m\u001B[43m(\u001B[49m\n\u001B[1;32m    447\u001B[0m \u001B[43m    \u001B[49m\u001B[43mfilename_or_obj\u001B[49m\u001B[43m,\u001B[49m\u001B[43m \u001B[49m\u001B[38;5;28;43mself\u001B[39;49m\u001B[38;5;241;43m.\u001B[39;49m\u001B[43mbuffer_rgba\u001B[49m\u001B[43m(\u001B[49m\u001B[43m)\u001B[49m\u001B[43m,\u001B[49m\u001B[43m \u001B[49m\u001B[38;5;28;43mformat\u001B[39;49m\u001B[38;5;241;43m=\u001B[39;49m\u001B[43mfmt\u001B[49m\u001B[43m,\u001B[49m\u001B[43m \u001B[49m\u001B[43morigin\u001B[49m\u001B[38;5;241;43m=\u001B[39;49m\u001B[38;5;124;43m\"\u001B[39;49m\u001B[38;5;124;43mupper\u001B[39;49m\u001B[38;5;124;43m\"\u001B[39;49m\u001B[43m,\u001B[49m\n\u001B[1;32m    448\u001B[0m \u001B[43m    \u001B[49m\u001B[43mdpi\u001B[49m\u001B[38;5;241;43m=\u001B[39;49m\u001B[38;5;28;43mself\u001B[39;49m\u001B[38;5;241;43m.\u001B[39;49m\u001B[43mfigure\u001B[49m\u001B[38;5;241;43m.\u001B[39;49m\u001B[43mdpi\u001B[49m\u001B[43m,\u001B[49m\u001B[43m \u001B[49m\u001B[43mmetadata\u001B[49m\u001B[38;5;241;43m=\u001B[39;49m\u001B[43mmetadata\u001B[49m\u001B[43m,\u001B[49m\u001B[43m \u001B[49m\u001B[43mpil_kwargs\u001B[49m\u001B[38;5;241;43m=\u001B[39;49m\u001B[43mpil_kwargs\u001B[49m\u001B[43m)\u001B[49m\n",
      "File \u001B[0;32m/opt/homebrew/Caskroom/miniconda/base/envs/magisterka/lib/python3.11/site-packages/matplotlib/image.py:1656\u001B[0m, in \u001B[0;36mimsave\u001B[0;34m(fname, arr, vmin, vmax, cmap, format, origin, dpi, metadata, pil_kwargs)\u001B[0m\n\u001B[1;32m   1654\u001B[0m pil_kwargs\u001B[38;5;241m.\u001B[39msetdefault(\u001B[38;5;124m\"\u001B[39m\u001B[38;5;124mformat\u001B[39m\u001B[38;5;124m\"\u001B[39m, \u001B[38;5;28mformat\u001B[39m)\n\u001B[1;32m   1655\u001B[0m pil_kwargs\u001B[38;5;241m.\u001B[39msetdefault(\u001B[38;5;124m\"\u001B[39m\u001B[38;5;124mdpi\u001B[39m\u001B[38;5;124m\"\u001B[39m, (dpi, dpi))\n\u001B[0;32m-> 1656\u001B[0m \u001B[43mimage\u001B[49m\u001B[38;5;241;43m.\u001B[39;49m\u001B[43msave\u001B[49m\u001B[43m(\u001B[49m\u001B[43mfname\u001B[49m\u001B[43m,\u001B[49m\u001B[43m \u001B[49m\u001B[38;5;241;43m*\u001B[39;49m\u001B[38;5;241;43m*\u001B[39;49m\u001B[43mpil_kwargs\u001B[49m\u001B[43m)\u001B[49m\n",
      "File \u001B[0;32m/opt/homebrew/Caskroom/miniconda/base/envs/magisterka/lib/python3.11/site-packages/PIL/Image.py:2438\u001B[0m, in \u001B[0;36mImage.save\u001B[0;34m(self, fp, format, **params)\u001B[0m\n\u001B[1;32m   2435\u001B[0m         fp \u001B[38;5;241m=\u001B[39m builtins\u001B[38;5;241m.\u001B[39mopen(filename, \u001B[38;5;124m\"\u001B[39m\u001B[38;5;124mw+b\u001B[39m\u001B[38;5;124m\"\u001B[39m)\n\u001B[1;32m   2437\u001B[0m \u001B[38;5;28;01mtry\u001B[39;00m:\n\u001B[0;32m-> 2438\u001B[0m     \u001B[43msave_handler\u001B[49m\u001B[43m(\u001B[49m\u001B[38;5;28;43mself\u001B[39;49m\u001B[43m,\u001B[49m\u001B[43m \u001B[49m\u001B[43mfp\u001B[49m\u001B[43m,\u001B[49m\u001B[43m \u001B[49m\u001B[43mfilename\u001B[49m\u001B[43m)\u001B[49m\n\u001B[1;32m   2439\u001B[0m \u001B[38;5;28;01mexcept\u001B[39;00m \u001B[38;5;167;01mException\u001B[39;00m:\n\u001B[1;32m   2440\u001B[0m     \u001B[38;5;28;01mif\u001B[39;00m open_fp:\n",
      "File \u001B[0;32m/opt/homebrew/Caskroom/miniconda/base/envs/magisterka/lib/python3.11/site-packages/PIL/PngImagePlugin.py:1394\u001B[0m, in \u001B[0;36m_save\u001B[0;34m(im, fp, filename, chunk, save_all)\u001B[0m\n\u001B[1;32m   1392\u001B[0m     _write_multiple_frames(im, fp, chunk, rawmode, default_image, append_images)\n\u001B[1;32m   1393\u001B[0m \u001B[38;5;28;01melse\u001B[39;00m:\n\u001B[0;32m-> 1394\u001B[0m     \u001B[43mImageFile\u001B[49m\u001B[38;5;241;43m.\u001B[39;49m\u001B[43m_save\u001B[49m\u001B[43m(\u001B[49m\u001B[43mim\u001B[49m\u001B[43m,\u001B[49m\u001B[43m \u001B[49m\u001B[43m_idat\u001B[49m\u001B[43m(\u001B[49m\u001B[43mfp\u001B[49m\u001B[43m,\u001B[49m\u001B[43m \u001B[49m\u001B[43mchunk\u001B[49m\u001B[43m)\u001B[49m\u001B[43m,\u001B[49m\u001B[43m \u001B[49m\u001B[43m[\u001B[49m\u001B[43m(\u001B[49m\u001B[38;5;124;43m\"\u001B[39;49m\u001B[38;5;124;43mzip\u001B[39;49m\u001B[38;5;124;43m\"\u001B[39;49m\u001B[43m,\u001B[49m\u001B[43m \u001B[49m\u001B[43m(\u001B[49m\u001B[38;5;241;43m0\u001B[39;49m\u001B[43m,\u001B[49m\u001B[43m \u001B[49m\u001B[38;5;241;43m0\u001B[39;49m\u001B[43m)\u001B[49m\u001B[43m \u001B[49m\u001B[38;5;241;43m+\u001B[39;49m\u001B[43m \u001B[49m\u001B[43mim\u001B[49m\u001B[38;5;241;43m.\u001B[39;49m\u001B[43msize\u001B[49m\u001B[43m,\u001B[49m\u001B[43m \u001B[49m\u001B[38;5;241;43m0\u001B[39;49m\u001B[43m,\u001B[49m\u001B[43m \u001B[49m\u001B[43mrawmode\u001B[49m\u001B[43m)\u001B[49m\u001B[43m]\u001B[49m\u001B[43m)\u001B[49m\n\u001B[1;32m   1396\u001B[0m \u001B[38;5;28;01mif\u001B[39;00m info:\n\u001B[1;32m   1397\u001B[0m     \u001B[38;5;28;01mfor\u001B[39;00m info_chunk \u001B[38;5;129;01min\u001B[39;00m info\u001B[38;5;241m.\u001B[39mchunks:\n",
      "File \u001B[0;32m/opt/homebrew/Caskroom/miniconda/base/envs/magisterka/lib/python3.11/site-packages/PIL/ImageFile.py:519\u001B[0m, in \u001B[0;36m_save\u001B[0;34m(im, fp, tile, bufsize)\u001B[0m\n\u001B[1;32m    517\u001B[0m     _encode_tile(im, fp, tile, bufsize, fh)\n\u001B[1;32m    518\u001B[0m \u001B[38;5;28;01mexcept\u001B[39;00m (\u001B[38;5;167;01mAttributeError\u001B[39;00m, io\u001B[38;5;241m.\u001B[39mUnsupportedOperation) \u001B[38;5;28;01mas\u001B[39;00m exc:\n\u001B[0;32m--> 519\u001B[0m     \u001B[43m_encode_tile\u001B[49m\u001B[43m(\u001B[49m\u001B[43mim\u001B[49m\u001B[43m,\u001B[49m\u001B[43m \u001B[49m\u001B[43mfp\u001B[49m\u001B[43m,\u001B[49m\u001B[43m \u001B[49m\u001B[43mtile\u001B[49m\u001B[43m,\u001B[49m\u001B[43m \u001B[49m\u001B[43mbufsize\u001B[49m\u001B[43m,\u001B[49m\u001B[43m \u001B[49m\u001B[38;5;28;43;01mNone\u001B[39;49;00m\u001B[43m,\u001B[49m\u001B[43m \u001B[49m\u001B[43mexc\u001B[49m\u001B[43m)\u001B[49m\n\u001B[1;32m    520\u001B[0m \u001B[38;5;28;01mif\u001B[39;00m \u001B[38;5;28mhasattr\u001B[39m(fp, \u001B[38;5;124m\"\u001B[39m\u001B[38;5;124mflush\u001B[39m\u001B[38;5;124m\"\u001B[39m):\n\u001B[1;32m    521\u001B[0m     fp\u001B[38;5;241m.\u001B[39mflush()\n",
      "File \u001B[0;32m/opt/homebrew/Caskroom/miniconda/base/envs/magisterka/lib/python3.11/site-packages/PIL/ImageFile.py:538\u001B[0m, in \u001B[0;36m_encode_tile\u001B[0;34m(im, fp, tile, bufsize, fh, exc)\u001B[0m\n\u001B[1;32m    535\u001B[0m \u001B[38;5;28;01mif\u001B[39;00m exc:\n\u001B[1;32m    536\u001B[0m     \u001B[38;5;66;03m# compress to Python file-compatible object\u001B[39;00m\n\u001B[1;32m    537\u001B[0m     \u001B[38;5;28;01mwhile\u001B[39;00m \u001B[38;5;28;01mTrue\u001B[39;00m:\n\u001B[0;32m--> 538\u001B[0m         errcode, data \u001B[38;5;241m=\u001B[39m \u001B[43mencoder\u001B[49m\u001B[38;5;241;43m.\u001B[39;49m\u001B[43mencode\u001B[49m\u001B[43m(\u001B[49m\u001B[43mbufsize\u001B[49m\u001B[43m)\u001B[49m[\u001B[38;5;241m1\u001B[39m:]\n\u001B[1;32m    539\u001B[0m         fp\u001B[38;5;241m.\u001B[39mwrite(data)\n\u001B[1;32m    540\u001B[0m         \u001B[38;5;28;01mif\u001B[39;00m errcode:\n",
      "\u001B[0;31mKeyboardInterrupt\u001B[0m: "
     ]
    }
   ],
   "source": [
    "dzialo_gospera = GraWZycie(n=200, m=200, iters=1000)\n",
    "dzialo_gospera.load_points(\n",
    "    points_x=[1,2,1,2, 11,11,11,12,12,13,13,14,14,15,16,16,17,17,17,18, 21,21,21,22,22,22,23,23,25,25,25,25, 35,35,36,36, 100, 100, 101, 100, 99],\n",
    "    points_y=[30,30,31,31, 30,31,32,29,33,28,34,28,34,31, 29,33,30,32,31,31, 30,29,28,30,29,28,27,31,31,32,27,26, 28,29,28,29, 100, 99, 99, 101, 100],\n",
    ")\n",
    "# dzialo_gospera.draw_matrix()\n",
    "dzialo_gospera.core()"
   ],
   "metadata": {
    "collapsed": false
   },
   "id": "8ce385bbf1164bf4"
  }
 ],
 "metadata": {
  "kernelspec": {
   "display_name": "Python 3",
   "language": "python",
   "name": "python3"
  },
  "language_info": {
   "codemirror_mode": {
    "name": "ipython",
    "version": 2
   },
   "file_extension": ".py",
   "mimetype": "text/x-python",
   "name": "python",
   "nbconvert_exporter": "python",
   "pygments_lexer": "ipython2",
   "version": "2.7.6"
  }
 },
 "nbformat": 4,
 "nbformat_minor": 5
}
