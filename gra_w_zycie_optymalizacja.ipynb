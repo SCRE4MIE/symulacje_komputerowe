{
 "cells": [
  {
   "cell_type": "markdown",
   "source": [
    "# Gra w życie\n",
    "## Mateusz Baran\n",
    "### 155620"
   ],
   "metadata": {
    "collapsed": false
   },
   "id": "b231dc0aa60b030f"
  },
  {
   "cell_type": "code",
   "execution_count": 580,
   "outputs": [],
   "source": [
    "import matplotlib.pyplot as plt\n",
    "import numpy as np\n",
    "from IPython.display import clear_output"
   ],
   "metadata": {
    "collapsed": false,
    "ExecuteTime": {
     "end_time": "2023-10-27T23:49:39.340669Z",
     "start_time": "2023-10-27T23:49:39.323125Z"
    }
   },
   "id": "92a2ed6b371b980"
  },
  {
   "cell_type": "code",
   "execution_count": 581,
   "outputs": [],
   "source": [
    "class GraWZycie:\n",
    "    def __init__(self, n, m, iters, rules:str, only_result_plot=False):\n",
    "        self.matrix = np.zeros((n, m))\n",
    "        self.iters = iters\n",
    "        self.point_to_born = []\n",
    "        self.point_to_die = []\n",
    "        self.only_result_plot = only_result_plot\n",
    "        self.rules_str = rules\n",
    "        self.rules_born, self.rules_die = self.translate_rules()\n",
    "        \n",
    "    \n",
    "    def translate_rules(self):\n",
    "        split_rules_str = self.rules_str.split('/')\n",
    "        rules_to_born = [int(c) for c in split_rules_str[1]]\n",
    "        rules_to_die = [int(c) for c in split_rules_str[0]]\n",
    "        return rules_to_born, rules_to_die\n",
    "    \n",
    "    def draw_matrix(self):\n",
    "        plt.figure(figsize=(15,15))\n",
    "        plt.matshow(self.matrix, cmap='Blues', fignum=1)\n",
    "        plt.show()\n",
    "        \n",
    "    def load_points(self, points_x:list, points_y:list):\n",
    "        if len(points_x) != len(points_y):\n",
    "            raise Exception('Lists are not eaqual!')\n",
    "        for i in range(len(points_x)):\n",
    "            self.matrix[points_y[i]][points_x[i]] = 1\n",
    "            \n",
    "    def load_file(self, file):\n",
    "        \"\"\"Ładuje plik z danymi.\"\"\"\n",
    "        \n",
    "        lista = []\n",
    "        with open(file, 'r') as file:\n",
    "            for line in file:\n",
    "                lista.append(list(map(lambda e: float(e), line.replace('\\n', '').split())))\n",
    "        for i in range(len(lista)):\n",
    "            self.matrix[int(lista[i][1])][int(lista[i][0])] = 1\n",
    "            \n",
    "    \n",
    "    def check_born_or_die(self, i, j):\n",
    "        count = 0\n",
    "        \n",
    "        start_loop_i = i - 1\n",
    "        start_loop_j = j - 1\n",
    "        end_loop_i = i + 1\n",
    "        end_loop_j = j + 1\n",
    "        \n",
    "        if start_loop_i < 0:\n",
    "            start_loop_i += 1\n",
    "        if start_loop_j < 0:\n",
    "            start_loop_j += 1\n",
    "        if end_loop_i >= self.matrix.shape[0]:\n",
    "            end_loop_i -= 1\n",
    "        if end_loop_j >= self.matrix.shape[1]:\n",
    "            end_loop_j -= 1\n",
    "        \n",
    "        \n",
    "        for i_p in range(start_loop_i, end_loop_i+1):\n",
    "            for j_p in range(start_loop_j, end_loop_j+1):\n",
    "                if i_p == i and j_p == j:\n",
    "                    pass\n",
    "                else:\n",
    "                    if self.matrix[i_p][j_p] == 1:\n",
    "                        count += 1\n",
    "                    \n",
    "        # -------\n",
    "        \n",
    "        if self.matrix[i][j] == 0: # born\n",
    "            if count in self.rules_born:\n",
    "                self.point_to_born.append([i,j])\n",
    "        if self.matrix[i][j] == 1: # die\n",
    "            if count not in self.rules_die:\n",
    "                self.point_to_die.append([i,j])\n",
    "        \n",
    "    \n",
    "    def born_or_kill(self):\n",
    "        for born in self.point_to_born:\n",
    "            self.matrix[born[0]][born[1]] = 1\n",
    "        for kill in self.point_to_die:\n",
    "            self.matrix[kill[0]][kill[1]] = 0\n",
    "                \n",
    "        self.point_to_born = []\n",
    "        self.point_to_die = []\n",
    "                \n",
    "        \n",
    "    def core(self):\n",
    "        for l in range(self.iters):\n",
    "            for i in range(len(self.matrix)):\n",
    "                for j in range(len(self.matrix)):\n",
    "                    self.check_born_or_die(i, j)\n",
    "                                 \n",
    "            self.born_or_kill()\n",
    "            \n",
    "            if not self.only_result_plot:\n",
    "                plt.figure(figsize=(10,10))\n",
    "                plt.matshow(self.matrix, cmap='Blues', fignum=1)\n",
    "                clear_output(wait=0.5)\n",
    "                plt.title(f'Generation {l+1}, people: {np.count_nonzero(self.matrix)}')\n",
    "                plt.show()\n",
    "            else:\n",
    "                print(f'Generacja {l+1}',end='\\r')\n",
    "        if self.only_result_plot:\n",
    "            plt.figure(figsize=(10,10))\n",
    "            plt.matshow(self.matrix, cmap='Blues', fignum=1)\n",
    "        \n",
    "            plt.title(f'Generation {self.iters}, people: {np.count_nonzero(self.matrix)}')\n",
    "            plt.show()\n",
    "        \n",
    "            "
   ],
   "metadata": {
    "collapsed": false,
    "ExecuteTime": {
     "end_time": "2023-10-27T23:49:39.351337Z",
     "start_time": "2023-10-27T23:49:39.339621Z"
    }
   },
   "id": "2e76e896a166d8ce"
  },
  {
   "cell_type": "code",
   "execution_count": 582,
   "outputs": [],
   "source": [
    "# gra_w_zycie = GraWZycie(n=200, m=200, iters=1000, rules='23/3')\n",
    "# gra_w_zycie.load_points(points_x=[100, 100, 101, 100, 99], points_y=[100, 99, 99, 101, 100])\n",
    "# gra_w_zycie.core()"
   ],
   "metadata": {
    "collapsed": false,
    "ExecuteTime": {
     "end_time": "2023-10-27T23:49:39.351542Z",
     "start_time": "2023-10-27T23:49:39.342922Z"
    }
   },
   "id": "24876332ab5637a9"
  },
  {
   "cell_type": "code",
   "execution_count": 583,
   "outputs": [
    {
     "data": {
      "text/plain": "<Figure size 1000x1000 with 1 Axes>",
      "image/png": "[encoded data removed]"
     },
     "metadata": {},
     "output_type": "display_data"
    }
   ],
   "source": [
    "dzialo_gospera = GraWZycie(n=200, m=200, iters=10, rules='12345/3')\n",
    "dzialo_gospera.load_file('data.dat')\n",
    "dzialo_gospera.core()"
   ],
   "metadata": {
    "collapsed": false
   },
   "id": "8ce385bbf1164bf4"
  }
 ],
 "metadata": {
  "kernelspec": {
   "display_name": "Python 3",
   "language": "python",
   "name": "python3"
  },
  "language_info": {
   "codemirror_mode": {
    "name": "ipython",
    "version": 2
   },
   "file_extension": ".py",
   "mimetype": "text/x-python",
   "name": "python",
   "nbconvert_exporter": "python",
   "pygments_lexer": "ipython2",
   "version": "2.7.6"
  }
 },
 "nbformat": 4,
 "nbformat_minor": 5
}
