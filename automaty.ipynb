{
 "cells": [
  {
   "cell_type": "markdown",
   "source": [
    "# Automaty komórkowe\n",
    "## Mateusz Baran\n",
    "### 155620"
   ],
   "metadata": {
    "collapsed": false
   },
   "id": "b6cca7e51972d956"
  },
  {
   "cell_type": "code",
   "execution_count": 28,
   "outputs": [],
   "source": [
    "import matplotlib.pyplot as plt\n",
    "import numpy as np\n",
    "import math\n",
    "from IPython.display import clear_output"
   ],
   "metadata": {
    "collapsed": false,
    "ExecuteTime": {
     "end_time": "2023-10-26T19:34:35.957679Z",
     "start_time": "2023-10-26T19:34:35.945965Z"
    }
   },
   "id": "4e3e5b9e0472eb6f"
  },
  {
   "cell_type": "code",
   "execution_count": 29,
   "outputs": [],
   "source": [
    "class AutomatKomorkowy:\n",
    "    def __init__(self, rule:int, iters:int):\n",
    "        self.rule_bin = f'{rule:08b}'\n",
    "        self.iters = iters\n",
    "        self.rules_dict = {\n",
    "            '111': 0,\n",
    "            '110': 0,\n",
    "            '101': 0,\n",
    "            '100': 0,\n",
    "            '011': 0,\n",
    "            '010': 0,\n",
    "            '001': 0,\n",
    "            '000': 0,\n",
    "        }\n",
    "        self.matrix = np.zeros((iters, iters))  # create matrix\n",
    "        self.add_rule_to_rules_dict()\n",
    "        self.core()\n",
    "        \n",
    "        \n",
    "    def add_rule_to_rules_dict(self):\n",
    "        i = 0\n",
    "        for key in self.rules_dict:\n",
    "            self.rules_dict[key] = self.rule_bin[i]\n",
    "            i += 1\n",
    "            \n",
    "    def core(self):\n",
    "        center_of_matrix = math.ceil(len(self.matrix)/2) - 1  # get index of first row center\n",
    "        self.matrix[0][center_of_matrix] = 1\n",
    "        plt.figure(figsize=(15,15))\n",
    "        for i in range(1, self.iters):\n",
    "            for j in range(len(self.matrix)):\n",
    "                pattern = ''\n",
    "                if j == 0:\n",
    "                    pattern += str(int(self.matrix[i - 1][len(self.matrix) -1])) # last\n",
    "                    pattern += str(int(self.matrix[i -1][j]))\n",
    "                    pattern += str(int(self.matrix[i -1][j + 1]))\n",
    "                elif j == len(self.matrix) - 1:\n",
    "                    pattern += str(int(self.matrix[i - 1][j - 1]))\n",
    "                    pattern += str(int(self.matrix[i - 1][j]))\n",
    "                    pattern += str(int(self.matrix[i - 1][0]))\n",
    "                else:\n",
    "                    pattern += str(int(self.matrix[i -1][j - 1]))\n",
    "                    pattern += str(int(self.matrix[i -1][j]))\n",
    "                    pattern += str(int(self.matrix[i -1][j + 1]))\n",
    "                self.matrix[i][j] = self.rules_dict[pattern]\n",
    "            plt.matshow(self.matrix, cmap='Blues')\n",
    "            clear_output(wait=5)\n",
    "            plt.show()\n"
   ],
   "metadata": {
    "collapsed": false,
    "ExecuteTime": {
     "end_time": "2023-10-26T19:34:35.957923Z",
     "start_time": "2023-10-26T19:34:35.953559Z"
    }
   },
   "id": "7737af148e4c52c2"
  },
  {
   "cell_type": "code",
   "execution_count": 30,
   "outputs": [
    {
     "data": {
      "text/plain": "<Figure size 480x480 with 1 Axes>",
      "image/png": "[encoded data removed]"
     },
     "metadata": {},
     "output_type": "display_data"
    }
   ],
   "source": [
    "automat_komorkowy = AutomatKomorkowy(90, 100)"
   ],
   "metadata": {
    "collapsed": false
   },
   "id": "70bbea73ddd237e0"
  }
 ],
 "metadata": {
  "kernelspec": {
   "display_name": "Python 3",
   "language": "python",
   "name": "python3"
  },
  "language_info": {
   "codemirror_mode": {
    "name": "ipython",
    "version": 2
   },
   "file_extension": ".py",
   "mimetype": "text/x-python",
   "name": "python",
   "nbconvert_exporter": "python",
   "pygments_lexer": "ipython2",
   "version": "2.7.6"
  }
 },
 "nbformat": 4,
 "nbformat_minor": 5
}
