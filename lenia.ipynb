{
 "cells": [
  {
   "cell_type": "code",
   "execution_count": 53,
   "id": "initial_id",
   "metadata": {
    "collapsed": true,
    "ExecuteTime": {
     "end_time": "2023-10-31T16:55:03.717088Z",
     "start_time": "2023-10-31T16:55:03.713243Z"
    }
   },
   "outputs": [],
   "source": [
    "import matplotlib.pyplot as plt\n",
    "import numpy as np\n",
    "import random\n",
    "import copy\n",
    "from IPython.display import clear_output\n",
    "import matplotlib.animation as animation"
   ]
  },
  {
   "cell_type": "code",
   "execution_count": 54,
   "outputs": [],
   "source": [
    "class Lenia:\n",
    "        def __init__(self, n, m, kernel_outer_radius, kernel_inner_radius, iters):\n",
    "\n",
    "            self.iters = iters\n",
    "            self.n = n\n",
    "            self.m = m\n",
    "            self.matrix = np.zeros((n, m))\n",
    "            self.kernel = self.create_kernel(kernel_outer_radius, kernel_inner_radius, smoothness=3)\n",
    "            self.shape_kernel = len(self.kernel), len(self.kernel[0])\n",
    "            \n",
    "            # -- animation\n",
    "            self.count_loop = 0\n",
    "            self.animation = None\n",
    "            \n",
    "    \n",
    "            \n",
    "        def load_file(self, file):\n",
    "            lista = []\n",
    "            with open(file, 'r') as file:\n",
    "                for line in file:\n",
    "                    lista.append(list(map(lambda e: float(e), line.replace('\\n', '').split())))\n",
    "            for i in range(len(lista)):\n",
    "                self.matrix[int(lista[i][1])][int(lista[i][0])] = 1\n",
    "                \n",
    "        def load_points(self, points_x: list, points_y: list):\n",
    "            if len(points_x) != len(points_y):\n",
    "                raise Exception('Lists are not eaqual!')\n",
    "            for i in range(len(points_x)):\n",
    "                self.matrix[points_y[i]][points_x[i]] = 1\n",
    "                \n",
    "                \n",
    "        # -------------------------------------\n",
    "        def create_kernel(self, outer_radius, inner_radius, smoothness):\n",
    "            size = 2 * outer_radius + 1\n",
    "            kernel = np.zeros((size, size))\n",
    "            center = outer_radius\n",
    "        \n",
    "            for i in range(size):\n",
    "                for j in range(size):\n",
    "                    distance = np.sqrt((i - center) ** 2 + (j - center) ** 2)\n",
    "                    if distance <= inner_radius:\n",
    "                        kernel[i, j] = 0  # Inside the inner circle, values are 0\n",
    "                    elif distance <= outer_radius:\n",
    "                        # Create a smooth transition from 0 to 1 using a smoothness factor\n",
    "                        kernel[i, j] = (distance - inner_radius) / (outer_radius - inner_radius) ** smoothness\n",
    "        \n",
    "            return kernel\n",
    "        \n",
    "        def calc_U(self, matrix, i_c, j_c):\n",
    "            u = 0\n",
    "            count_k = 0\n",
    "    \n",
    "            for i_k in range(self.shape_kernel[0]):\n",
    "                for j_k in range(self.shape_kernel[1]):\n",
    "                    i_matrix_index = i_c - int(self.shape_kernel[0]/2) + i_k\n",
    "                    j_matrix_index = j_c - int(self.shape_kernel[1]/2) + j_k\n",
    "                    if  (0 <= i_matrix_index < len(matrix)) and (0 <= j_matrix_index < len(matrix[0])):\n",
    "                        u += matrix[i_matrix_index][j_matrix_index] * self.kernel[i_k][j_k]\n",
    "                        count_k += self.kernel[i_k][j_k]\n",
    "                    \n",
    "            u = u / count_k\n",
    "            return u\n",
    "        \n",
    "        \n",
    "        def growth_func(self, u):\n",
    "            sigma = 0.01\n",
    "            mu = 0.1\n",
    "            l = abs(u - mu)\n",
    "            k = 2 * (sigma ** 2)\n",
    "            return 2 * np.exp(-(l ** 2) / k) - 1\n",
    "        \n",
    "        def calc_c_t(self, matrix, i, j):\n",
    "            u = self.calc_U(matrix, i, j)\n",
    "            a = self.growth_func(u)\n",
    "            at = 0.1\n",
    "            return np.clip((matrix[i][j] + at*a), 0, 1)\n",
    "        \n",
    "        def core_funct(self):\n",
    "            fig= plt.figure(figsize=(10, 8))\n",
    "            im = plt.imshow(self.matrix, cmap='magma', animated=True)\n",
    "            \n",
    "            def animation_loop(frame):\n",
    "                matrix_tmp = np.zeros((self.n,self.m))\n",
    "                for i in range(self.matrix.shape[0]):\n",
    "                    for j in range(self.matrix.shape[1]):\n",
    "                        matrix_tmp[i][j] = self.calc_c_t(self.matrix, i, j)\n",
    "                        \n",
    "                self.matrix = copy.deepcopy(matrix_tmp)\n",
    "                im.set_array(self.matrix)\n",
    "                plt.title(f'Generation: {self.count_loop}')\n",
    "                self.count_loop += 1\n",
    "                return im,\n",
    "            \n",
    "            self.animation = animation.FuncAnimation(fig, func=animation_loop, frames=self.iters, interval=10, cache_frame_data=False)\n",
    "            self.animation.save('lenia.gif')\n",
    "              \n",
    "                        \n",
    "        \n",
    "            \n",
    "            "
   ],
   "metadata": {
    "collapsed": false,
    "ExecuteTime": {
     "end_time": "2023-10-31T16:55:03.736120Z",
     "start_time": "2023-10-31T16:55:03.731084Z"
    }
   },
   "id": "cd95c87550de3200"
  },
  {
   "cell_type": "code",
   "execution_count": null,
   "outputs": [
    {
     "name": "stderr",
     "output_type": "stream",
     "text": [
      "MovieWriter ffmpeg unavailable; using Pillow instead.\n"
     ]
    }
   ],
   "source": [
    "lenia = Lenia(n=200,m=200, kernel_outer_radius=9, kernel_inner_radius=4, iters=300)\n",
    "lenia.load_points(points_x=[random.randint(100,120) for _ in range(100)], points_y=[random.randint(100,120) for _ in range(100)])\n",
    "lenia.core_funct()"
   ],
   "metadata": {
    "collapsed": false,
    "is_executing": true,
    "ExecuteTime": {
     "start_time": "2023-10-31T16:55:03.742009Z"
    }
   },
   "id": "8484b128a57bc8c5"
  }
 ],
 "metadata": {
  "kernelspec": {
   "display_name": "Python 3",
   "language": "python",
   "name": "python3"
  },
  "language_info": {
   "codemirror_mode": {
    "name": "ipython",
    "version": 2
   },
   "file_extension": ".py",
   "mimetype": "text/x-python",
   "name": "python",
   "nbconvert_exporter": "python",
   "pygments_lexer": "ipython2",
   "version": "2.7.6"
  }
 },
 "nbformat": 4,
 "nbformat_minor": 5
}
