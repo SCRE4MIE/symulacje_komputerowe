{
 "cells": [
  {
   "cell_type": "code",
   "execution_count": 36,
   "outputs": [
    {
     "name": "stdout",
     "output_type": "stream",
     "text": [
      "1.0\n",
      "0.649\n"
     ]
    }
   ],
   "source": [
    "import matplotlib.pyplot as plt\n",
    "import numpy as np\n",
    "def d(n):\n",
    "    \"\"\"Funkcja d(n) z obrazu.\"\"\"\n",
    "    sigma = 0.136\n",
    "    mu = 0\n",
    "    l = abs(n - mu)\n",
    "    k = 2 * (sigma ** 2)\n",
    "    return (2 * np.exp(-(l ** 2) / k)) - 1\n",
    "\n",
    "# Zakres wartości x\n",
    "x = np.arange(-10, 10, 0.01)\n",
    "\n",
    "# Oblicz wartości funkcji dla każdego x\n",
    "y = d(0)\n",
    "print(y)\n",
    "\n",
    "print(min(max((0.549 + 0.1*y), 0), 1))\n",
    "\n",
    "# # Wyrysuj wykres\n",
    "# plt.plot(x, y)\n",
    "# plt.xlabel(\"n\")\n",
    "# plt.ylabel(\"d(n)\")\n",
    "# plt.xlim(-1, 1)\n",
    "# plt.show()"
   ],
   "metadata": {
    "collapsed": false,
    "ExecuteTime": {
     "end_time": "2023-10-31T22:53:49.089265Z",
     "start_time": "2023-10-31T22:53:49.082266Z"
    }
   },
   "id": "d113f873b4900e89"
  },
  {
   "cell_type": "code",
   "execution_count": 37,
   "outputs": [
    {
     "data": {
      "text/plain": "<Figure size 640x480 with 1 Axes>",
      "image/png": "[encoded data removed]"
     },
     "metadata": {},
     "output_type": "display_data"
    }
   ],
   "source": [
    "import matplotlib.pyplot as plt\n",
    "import numpy as np\n",
    "def d(n):\n",
    "    \"\"\"Funkcja d(n) z obrazu.\"\"\"\n",
    "    sigma = 0.04\n",
    "    mu = 0.25\n",
    "    l = abs(n - mu)\n",
    "    k = 2 * (sigma ** 2)\n",
    "    return (2 * np.exp(-(l ** 2) / k)) - 1\n",
    "\n",
    "# Zakres wartości x\n",
    "x = np.arange(-10, 10, 0.01)\n",
    "\n",
    "# Oblicz wartości funkcji dla każdego x\n",
    "y = d(x)\n",
    "\n",
    "\n",
    "# # Wyrysuj wykres\n",
    "plt.plot(x, y)\n",
    "plt.xlabel(\"n\")\n",
    "plt.ylabel(\"d(n)\")\n",
    "plt.xlim(-1, 1)\n",
    "plt.show()"
   ],
   "metadata": {
    "collapsed": false,
    "ExecuteTime": {
     "end_time": "2023-10-31T22:53:49.164853Z",
     "start_time": "2023-10-31T22:53:49.104484Z"
    }
   },
   "id": "e783c5b16650782e"
  },
  {
   "cell_type": "code",
   "execution_count": 38,
   "outputs": [
    {
     "name": "stdout",
     "output_type": "stream",
     "text": [
      "14.919180856708572\n"
     ]
    },
    {
     "data": {
      "text/plain": "<Figure size 640x480 with 0 Axes>"
     },
     "metadata": {},
     "output_type": "display_data"
    },
    {
     "data": {
      "text/plain": "<Figure size 480x480 with 1 Axes>",
      "image/png": "[encoded data removed]"
     },
     "metadata": {},
     "output_type": "display_data"
    }
   ],
   "source": [
    "import numpy as np\n",
    "import matplotlib.pyplot as plt\n",
    "\n",
    "\n",
    "def create_kernel(outer_radius, inner_radius, smoothness):\n",
    "    size = 2 * outer_radius + 1\n",
    "    kernel = np.zeros((size, size))\n",
    "    center = outer_radius\n",
    "\n",
    "    for i in range(size):\n",
    "        for j in range(size):\n",
    "            distance = np.sqrt((i - center) ** 2 + (j - center) ** 2)\n",
    "            if distance <= inner_radius:\n",
    "                kernel[i, j] = 0  # Inside the inner circle, values are 0\n",
    "            elif distance <= outer_radius:\n",
    "                # Create a smooth transition from 0 to 1 using a smoothness factor\n",
    "                kernel[i, j] = (distance - inner_radius) / (outer_radius - inner_radius) ** smoothness\n",
    "\n",
    "    return kernel\n",
    "\n",
    "\n",
    "def calc_U(matrix, i_c, j_c, kernel):\n",
    "        u = 0\n",
    "        count_k = 0\n",
    "        shape_kernel = len(kernel), len(kernel[0])\n",
    "        for i_k in range(shape_kernel[0]):\n",
    "            for j_k in range(shape_kernel[1]):\n",
    "                i_matrix_index = i_c - int(shape_kernel[0]/2) + i_k\n",
    "                j_matrix_index = j_c - int(shape_kernel[1]/2) + j_k\n",
    "                if  (0 <= i_matrix_index < len(matrix)) and (0 <= j_matrix_index < len(matrix[0])):\n",
    "                    # u += matrix[i_matrix_index][j_matrix_index] * kernel[i_k][j_k]\n",
    "                    count_k += kernel[i_k][j_k]\n",
    "                    matrix[i_matrix_index][j_matrix_index] = kernel[i_k][j_k]\n",
    "                    \n",
    "        print(count_k)\n",
    "        return matrix\n",
    "\n",
    "R = 7\n",
    "R_inner = 4\n",
    "smoothness = 1\n",
    "\n",
    "# Create the Gaussian kernel\n",
    "kernel = create_kernel(outer_radius=R, inner_radius=R_inner, smoothness=smoothness)\n",
    "\n",
    "matrix = np.zeros((100,100))\n",
    "matrix2 = calc_U(matrix, 0,0, kernel)\n",
    "plt.figure()\n",
    "plt.matshow(matrix2, cmap='Blues')\n",
    "plt.show()"
   ],
   "metadata": {
    "collapsed": false,
    "ExecuteTime": {
     "end_time": "2023-10-31T22:53:49.228042Z",
     "start_time": "2023-10-31T22:53:49.171577Z"
    }
   },
   "id": "8edb43675ac49ef8"
  },
  {
   "cell_type": "code",
   "execution_count": 39,
   "outputs": [
    {
     "data": {
      "text/plain": "0.7"
     },
     "execution_count": 39,
     "metadata": {},
     "output_type": "execute_result"
    }
   ],
   "source": [
    "np.clip(0.7, 0, 1)"
   ],
   "metadata": {
    "collapsed": false,
    "ExecuteTime": {
     "end_time": "2023-10-31T22:53:49.231551Z",
     "start_time": "2023-10-31T22:53:49.227925Z"
    }
   },
   "id": "f9114e0c8120c742"
  },
  {
   "cell_type": "code",
   "execution_count": 40,
   "outputs": [
    {
     "name": "stdout",
     "output_type": "stream",
     "text": [
      "[2, 3, 4, 5]\n"
     ]
    }
   ],
   "source": [
    "my_list = [0, 1, 2, 3, 4, 5, 6, 7, 8, 9]\n",
    "n = 2  # Start index (inclusive)\n",
    "m = 6  # End index (exclusive)\n",
    "\n",
    "result = my_list[n:m]\n",
    "\n",
    "print(result)"
   ],
   "metadata": {
    "collapsed": false,
    "ExecuteTime": {
     "end_time": "2023-10-31T22:53:49.238784Z",
     "start_time": "2023-10-31T22:53:49.233898Z"
    }
   },
   "id": "e23c9408322ca666"
  },
  {
   "cell_type": "code",
   "execution_count": 40,
   "outputs": [],
   "source": [],
   "metadata": {
    "collapsed": false,
    "ExecuteTime": {
     "end_time": "2023-10-31T22:53:49.239121Z",
     "start_time": "2023-10-31T22:53:49.236743Z"
    }
   },
   "id": "57e05a305899e7d4"
  }
 ],
 "metadata": {
  "kernelspec": {
   "display_name": "Python 3",
   "language": "python",
   "name": "python3"
  },
  "language_info": {
   "codemirror_mode": {
    "name": "ipython",
    "version": 2
   },
   "file_extension": ".py",
   "mimetype": "text/x-python",
   "name": "python",
   "nbconvert_exporter": "python",
   "pygments_lexer": "ipython2",
   "version": "2.7.6"
  }
 },
 "nbformat": 4,
 "nbformat_minor": 5
}
